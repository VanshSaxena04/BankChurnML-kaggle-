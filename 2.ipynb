{
 "cells": [
  {
   "cell_type": "code",
   "execution_count": null,
   "metadata": {},
   "outputs": [
    {
     "name": "stdout",
     "output_type": "stream",
     "text": [
      "Train Data Sample:\n",
      "   id  CustomerId         Surname  CreditScore Geography Gender   Age  Tenure  \\\n",
      "0   0    15674932  Okwudilichukwu          668    France   Male  33.0       3   \n",
      "1   1    15749177   Okwudiliolisa          627    France   Male  33.0       1   \n",
      "2   2    15694510           Hsueh          678    France   Male  40.0      10   \n",
      "3   3    15741417             Kao          581    France   Male  34.0       2   \n",
      "4   4    15766172       Chiemenam          716     Spain   Male  33.0       5   \n",
      "\n",
      "     Balance  NumOfProducts  HasCrCard  IsActiveMember  EstimatedSalary  \\\n",
      "0       0.00              2        1.0             0.0        181449.97   \n",
      "1       0.00              2        1.0             1.0         49503.50   \n",
      "2       0.00              2        1.0             0.0        184866.69   \n",
      "3  148882.54              1        1.0             1.0         84560.88   \n",
      "4       0.00              2        1.0             1.0         15068.83   \n",
      "\n",
      "   Exited  \n",
      "0       0  \n",
      "1       0  \n",
      "2       0  \n",
      "3       0  \n",
      "4       0  \n",
      "Test Data Sample:\n",
      "       id  CustomerId    Surname  CreditScore Geography  Gender   Age  Tenure  \\\n",
      "0  165034    15773898   Lucchese          586    France  Female  23.0       2   \n",
      "1  165035    15782418       Nott          683    France  Female  46.0       2   \n",
      "2  165036    15807120         K?          656    France  Female  34.0       7   \n",
      "3  165037    15808905  O'Donnell          681    France    Male  36.0       8   \n",
      "4  165038    15607314    Higgins          752   Germany    Male  38.0      10   \n",
      "\n",
      "     Balance  NumOfProducts  HasCrCard  IsActiveMember  EstimatedSalary  \n",
      "0       0.00              2        0.0             1.0        160976.75  \n",
      "1       0.00              1        1.0             0.0         72549.27  \n",
      "2       0.00              2        1.0             0.0        138882.09  \n",
      "3       0.00              1        1.0             0.0        113931.57  \n",
      "4  121263.62              1        1.0             0.0        139431.00  \n",
      "Validation Accuracy: 0.8631\n",
      "[0 1 0 ... 0 0 0]\n"
     ]
    }
   ],
   "source": [
    "import pandas as pd\n",
    "import numpy as np\n",
    "from sklearn.model_selection import train_test_split\n",
    "from sklearn.preprocessing import StandardScaler, LabelEncoder\n",
    "from sklearn.ensemble import RandomForestClassifier\n",
    "from sklearn.metrics import accuracy_score\n",
    "\n",
    "train_path = 'train.csv'\n",
    "test_path = 'test.csv'\n",
    "train_df = pd.read_csv(train_path)\n",
    "test_df = pd.read_csv(test_path)\n",
    "\n",
    "print(\"Train Data Sample:\")\n",
    "print(train_df.head())\n",
    "print(\"Test Data Sample:\")\n",
    "print(test_df.head())\n",
    "\n",
    "label_encoders = {}\n",
    "categorical_columns = train_df.select_dtypes(include=['object']).columns\n",
    "\n",
    "for col in categorical_columns:\n",
    "    le = LabelEncoder()\n",
    "    train_df[col] = le.fit_transform(train_df[col])\n",
    "    label_encoders[col] = le\n",
    "    \n",
    "    if col in test_df.columns:\n",
    "        test_df[col] = test_df[col].map(lambda x: le.transform([x])[0] if x in le.classes_ else -1)\n",
    "\n",
    "X = train_df.drop(columns=['Exited'])  # Assuming 'Churn' is the target column\n",
    "y = train_df['Exited']\n",
    "\n",
    "scaler = StandardScaler()\n",
    "X_scaled = scaler.fit_transform(X)\n",
    "\n",
    "X_train, X_val, y_train, y_val = train_test_split(X_scaled, y, test_size=0.2, random_state=42)\n",
    "\n",
    "model = RandomForestClassifier(n_estimators=100, random_state=42)\n",
    "model.fit(X_train, y_train)\n",
    "y_val_pred = model.predict(X_val)\n",
    "accuracy = accuracy_score(y_val, y_val_pred)\n",
    "print(f'Validation Accuracy: {accuracy:.4f}')\n",
    "\n",
    "test_scaled = scaler.transform(test_df)\n",
    "\n",
    "test_predictions = model.predict(test_scaled)\n",
    "\n",
    "print(test_predictions)\n"
   ]
  },
  {
   "cell_type": "code",
   "execution_count": 8,
   "metadata": {},
   "outputs": [],
   "source": [
    "results = pd.DataFrame({'CustomerId': test_df['CustomerId'], 'Churn_Prediction': test_predictions})\n",
    "results.to_csv('churn_results.csv', index=False)"
   ]
  },
  {
   "cell_type": "code",
   "execution_count": null,
   "metadata": {},
   "outputs": [],
   "source": []
  }
 ],
 "metadata": {
  "kernelspec": {
   "display_name": "Python 3",
   "language": "python",
   "name": "python3"
  },
  "language_info": {
   "codemirror_mode": {
    "name": "ipython",
    "version": 3
   },
   "file_extension": ".py",
   "mimetype": "text/x-python",
   "name": "python",
   "nbconvert_exporter": "python",
   "pygments_lexer": "ipython3",
   "version": "3.13.1"
  }
 },
 "nbformat": 4,
 "nbformat_minor": 2
}
